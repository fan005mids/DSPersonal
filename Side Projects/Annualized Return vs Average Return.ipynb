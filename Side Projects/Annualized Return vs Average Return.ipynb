{
 "cells": [
  {
   "cell_type": "code",
   "execution_count": 16,
   "id": "74ef6ee8",
   "metadata": {},
   "outputs": [
    {
     "data": {
      "text/plain": [
       "0.05533402290765199"
      ]
     },
     "execution_count": 16,
     "metadata": {},
     "output_type": "execute_result"
    }
   ],
   "source": [
    "from numpy import random\n",
    "import numpy as np\n",
    "import matplotlib.pyplot as plt"
   ]
  },
  {
   "cell_type": "code",
   "execution_count": 105,
   "id": "d61dac69",
   "metadata": {},
   "outputs": [
    {
     "name": "stdout",
     "output_type": "stream",
     "text": [
      "Annualized [ 0.0047775  -0.17755982  0.15696439  0.13363014  0.18019099         inf]\n",
      "AVG [ 0.04838013 -0.13147792  0.24358632  0.2223037   0.26392824  0.25126172]\n",
      "[-0.90125081  0.3504916  -0.35561081 -0.39888477 -0.31727279         inf]\n"
     ]
    }
   ],
   "source": [
    "\n",
    "sample_size_list = [5, 10, 50, 100, 1000, 10000]\n",
    "repetition = 1\n",
    "\n",
    "annualized_list = np.array([])\n",
    "average_list = np.array([])\n",
    "\n",
    "for N in sample_size_list:\n",
    "    annualized = 0\n",
    "    average = 0\n",
    "    \n",
    "    for _ in range(repetition):\n",
    "        vals = random.uniform(-0.5, 1, N)\n",
    "        annualized += np.prod(vals+1)**(1/len(vals))-1\n",
    "        average += np.mean(vals)\n",
    "\n",
    "        \n",
    "    annualized_list = np.append(annualized_list, annualized/repetition)\n",
    "    average_list = np.append(average_list, average/repetition)\n",
    "    \n",
    "print(\"Annualized\", annualized_list)\n",
    "print(\"AVG\", average_list)\n",
    "print((annualized_list-average_list)/average_list)"
   ]
  },
  {
   "cell_type": "code",
   "execution_count": 133,
   "id": "c3bdd06e",
   "metadata": {},
   "outputs": [
    {
     "data": {
      "text/plain": [
       "(0.1679010127433061, 0.24989503213384906)"
      ]
     },
     "execution_count": 133,
     "metadata": {},
     "output_type": "execute_result"
    }
   ],
   "source": [
    "def annualized_average_return_under_uniform(low, high, N=1000, rep=5000):\n",
    "    annualized = 0\n",
    "    average = 0\n",
    "    for _ in range(rep):\n",
    "        vals = random.uniform(low, high, N)\n",
    "        annualized += np.prod(vals+1)**(1/len(vals))-1\n",
    "        average += np.mean(vals)\n",
    "    return(annualized/rep, average/rep)\n",
    "\n",
    "annualized_average_return_under_uniform(-0.5, 1)"
   ]
  },
  {
   "cell_type": "code",
   "execution_count": 189,
   "id": "2d899510",
   "metadata": {},
   "outputs": [
    {
     "name": "stdout",
     "output_type": "stream",
     "text": [
      "[3.72119361e+02 1.64811804e+03 6.68261455e+05 4.71316901e+11\n",
      " 2.08187097e+18 2.32791653e+31]\n",
      "[1.55718097e+02 2.19573464e+03 2.88380485e+05 8.87250256e+10\n",
      " 1.40898871e+19 5.79265283e+35]\n"
     ]
    }
   ],
   "source": [
    "capital = 10000\n",
    "days = [5, 10, 100, 365, 720, 1500]\n",
    "annualized_errors = np.array([])\n",
    "average_errors = np.array([])\n",
    "low = -0.1\n",
    "high = 0.2\n",
    "annual, avg = annualized_average_return_under_uniform(low, high)\n",
    "annual = annual+1\n",
    "avg = avg+1\n",
    "\n",
    "for d in days:\n",
    "    m = capital\n",
    "    for _ in range(d):\n",
    "        val = random.uniform(low, high, 1)[0]\n",
    "        m = m * (1 + val)\n",
    "\n",
    "    annualized_errors = np.append(annualized_errors, abs(m-capital*(annual**d)))\n",
    "    average_errors = np.append(average_errors, abs(m-capital*(avg**d)))\n",
    "    \n",
    "print(annualized_errors)\n",
    "print(average_errors)"
   ]
  },
  {
   "cell_type": "code",
   "execution_count": 180,
   "id": "97789a36",
   "metadata": {},
   "outputs": [
    {
     "name": "stdout",
     "output_type": "stream",
     "text": [
      "[2.08311924e+04 8.18957986e+03 6.91030276e+30 4.12192905e+28]\n",
      "[2.96030181e+04 3.76389818e+04 6.91030276e+30 2.30529008e+39]\n"
     ]
    }
   ],
   "source": [
    "capital = 10000\n",
    "days = [5, 10, 100, 365]\n",
    "annualized_errors = np.array([])\n",
    "average_errors = np.array([])\n",
    "low = -0.5\n",
    "high = 1\n",
    "annual, avg = annualized_average_return_under_uniform(low, high)\n",
    "annual = annual+1\n",
    "avg = avg+1\n",
    "\n",
    "for d in days:\n",
    "    m = capital\n",
    "    val = random.uniform(low, high, 1)[0]\n",
    "    for _ in range(d):\n",
    "        m = m * (1 + val)\n",
    "\n",
    "    annualized_errors = np.append(annualized_errors, abs(m-capital*(annual**d)))\n",
    "    average_errors = np.append(average_errors, abs(m-capital*(avg**d)))\n",
    "    \n",
    "print(annualized_errors)\n",
    "print(average_errors)"
   ]
  },
  {
   "cell_type": "code",
   "execution_count": 116,
   "id": "c430e10b",
   "metadata": {},
   "outputs": [
    {
     "name": "stdout",
     "output_type": "stream",
     "text": [
      "[1500.58894414]\n",
      "[57204.48503034]\n",
      "[280840.04578288]\n",
      "[1006739.46489243]\n",
      "[1741341.62006255]\n",
      "[22.32417558  0.38815986  0.8753739   0.9652343   0.97990056]\n"
     ]
    }
   ],
   "source": [
    "capital = 10000\n",
    "days = [5, 10, 100, 365, 720]\n",
    "annualized_errors = np.array([])\n",
    "average_errors = np.array([])\n",
    "\n",
    "for d in days:\n",
    "    reserve = 0\n",
    "    for _ in range(d):\n",
    "        val = random.uniform(-0.5, 1, 1)\n",
    "        reserve +=  capital*(1+val)-capital\n",
    "    \n",
    "    print(reserve)\n",
    "    average_errors = np.append(average_errors, abs(reserve-(capital+capital*0.25*10))/reserve)\n",
    "    \n",
    "print(average_errors)"
   ]
  },
  {
   "cell_type": "code",
   "execution_count": null,
   "id": "626711f3",
   "metadata": {},
   "outputs": [],
   "source": []
  }
 ],
 "metadata": {
  "kernelspec": {
   "display_name": "Python 3 (ipykernel)",
   "language": "python",
   "name": "python3"
  },
  "language_info": {
   "codemirror_mode": {
    "name": "ipython",
    "version": 3
   },
   "file_extension": ".py",
   "mimetype": "text/x-python",
   "name": "python",
   "nbconvert_exporter": "python",
   "pygments_lexer": "ipython3",
   "version": "3.9.5"
  }
 },
 "nbformat": 4,
 "nbformat_minor": 5
}
