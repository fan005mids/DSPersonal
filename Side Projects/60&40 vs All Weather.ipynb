{
 "cells": [
  {
   "cell_type": "markdown",
   "id": "8041894f",
   "metadata": {},
   "source": [
    "60&40 vs All Weather Portfolio\n",
    "By Licheng Zhong"
   ]
  },
  {
   "cell_type": "code",
   "execution_count": 28,
   "id": "e831347e",
   "metadata": {},
   "outputs": [],
   "source": [
    "import numpy as np\n",
    "import pandas as pd\n",
    "from scipy.stats import bootstrap"
   ]
  },
  {
   "cell_type": "markdown",
   "id": "d2371e9d",
   "metadata": {},
   "source": [
    "I have gathered the data from yahoo Finance. There's no history of stock split for these ETF. I assume to use close price.\n",
    "For display purpose, I run the code line by line. However, it may be a better practice to have a dictionary of ETF ticker and its panda frame. Therefore, we could build a pipeline that loops through the dictionary and promotes efficiency.\n",
    "\n",
    "Another thing is the bond ETF is used as an alternative to bonds. But bonds have maturity, while bonds ETF normally does not. This could make some differences. For example, TIPS and TIP ETF have some differences.\n",
    "\n",
    "In my humble opinion, if one is determined to hold actual bonds until maturity, then it doesn't make much sense to talk about the daily return or the bond price fluctuation. Since we don't look at everyday price of a bond, then we can't calculate the variance of return from those daily prices. Generally, the only variance of the return should be the default probability. Unlike the case where we use daily price to calculate the empirical variance of the return, there's no empirical way to calculate the default probability of one single bond unless we use the empirical data of a pool of bonds that is regarded to be the same kind as the one we are interested in. In other words, we need to make assumptions. For example, the pool of bonds is a good representative of the bond we are interested in; in other words, the variance of the pool of bonds is indeed the variance of the bond we're interested in. Other assumptions such as iid (so no structural changes, everyday is a fresh new day and so on) or sample size is large enough so that the sample distribution is approximately the population distribution also need to hold. As we can see, this is unlikely. Basically U.S. treasury bonds have never defaulted. Could you say it's default probability is 0? Isn't it possible that its default probability follows a distribution that has a heavy part in 0 but still has other nonzero possible values? However, even if we use price of the bonds, we still face similar assumptions. For example, does the price really fully capture the default probability or other worries such as legal and financial system down, nuclear attack, society collapse, extreme weather and etc.? Is the price really rational?\n",
    "\n",
    "However, I think this is an over-concern since holding a bond until maturity means we can't liquadate the whole portfolio on any arbitrary day. So it makes more sense to look at everyday price of bonds. "
   ]
  },
  {
   "cell_type": "code",
   "execution_count": null,
   "id": "5716581f",
   "metadata": {},
   "outputs": [],
   "source": [
    "# Here assume you download the csv for these tickers. The Cal MIDS application folder may have the csv when working on this"
   ]
  },
  {
   "cell_type": "code",
   "execution_count": 29,
   "id": "6eea5270",
   "metadata": {},
   "outputs": [],
   "source": [
    "VTI_Price = pd.read_csv(\"VTI_Price.csv\")\n",
    "VTI_Div = pd.read_csv(\"VTI.csv\")"
   ]
  },
  {
   "cell_type": "code",
   "execution_count": 30,
   "id": "8bb13850",
   "metadata": {},
   "outputs": [
    {
     "data": {
      "text/html": [
       "<div>\n",
       "<style scoped>\n",
       "    .dataframe tbody tr th:only-of-type {\n",
       "        vertical-align: middle;\n",
       "    }\n",
       "\n",
       "    .dataframe tbody tr th {\n",
       "        vertical-align: top;\n",
       "    }\n",
       "\n",
       "    .dataframe thead th {\n",
       "        text-align: right;\n",
       "    }\n",
       "</style>\n",
       "<table border=\"1\" class=\"dataframe\">\n",
       "  <thead>\n",
       "    <tr style=\"text-align: right;\">\n",
       "      <th></th>\n",
       "      <th>Date</th>\n",
       "      <th>Open</th>\n",
       "      <th>High</th>\n",
       "      <th>Low</th>\n",
       "      <th>Close</th>\n",
       "      <th>Adj Close</th>\n",
       "      <th>Volume</th>\n",
       "    </tr>\n",
       "  </thead>\n",
       "  <tbody>\n",
       "    <tr>\n",
       "      <th>0</th>\n",
       "      <td>11/10/2014</td>\n",
       "      <td>104.879997</td>\n",
       "      <td>105.099998</td>\n",
       "      <td>104.690002</td>\n",
       "      <td>105.099998</td>\n",
       "      <td>91.801514</td>\n",
       "      <td>2923500</td>\n",
       "    </tr>\n",
       "    <tr>\n",
       "      <th>1</th>\n",
       "      <td>11/11/2014</td>\n",
       "      <td>105.169998</td>\n",
       "      <td>105.239998</td>\n",
       "      <td>104.900002</td>\n",
       "      <td>105.199997</td>\n",
       "      <td>91.888885</td>\n",
       "      <td>1178000</td>\n",
       "    </tr>\n",
       "    <tr>\n",
       "      <th>2</th>\n",
       "      <td>11/12/2014</td>\n",
       "      <td>104.809998</td>\n",
       "      <td>105.300003</td>\n",
       "      <td>104.739998</td>\n",
       "      <td>105.180000</td>\n",
       "      <td>91.871422</td>\n",
       "      <td>1089800</td>\n",
       "    </tr>\n",
       "    <tr>\n",
       "      <th>3</th>\n",
       "      <td>11/13/2014</td>\n",
       "      <td>105.320000</td>\n",
       "      <td>105.559998</td>\n",
       "      <td>104.730003</td>\n",
       "      <td>105.160004</td>\n",
       "      <td>91.853958</td>\n",
       "      <td>1671100</td>\n",
       "    </tr>\n",
       "    <tr>\n",
       "      <th>4</th>\n",
       "      <td>11/14/2014</td>\n",
       "      <td>105.230003</td>\n",
       "      <td>105.330002</td>\n",
       "      <td>104.940002</td>\n",
       "      <td>105.169998</td>\n",
       "      <td>91.862686</td>\n",
       "      <td>2173900</td>\n",
       "    </tr>\n",
       "  </tbody>\n",
       "</table>\n",
       "</div>"
      ],
      "text/plain": [
       "         Date        Open        High         Low       Close  Adj Close  \\\n",
       "0  11/10/2014  104.879997  105.099998  104.690002  105.099998  91.801514   \n",
       "1  11/11/2014  105.169998  105.239998  104.900002  105.199997  91.888885   \n",
       "2  11/12/2014  104.809998  105.300003  104.739998  105.180000  91.871422   \n",
       "3  11/13/2014  105.320000  105.559998  104.730003  105.160004  91.853958   \n",
       "4  11/14/2014  105.230003  105.330002  104.940002  105.169998  91.862686   \n",
       "\n",
       "    Volume  \n",
       "0  2923500  \n",
       "1  1178000  \n",
       "2  1089800  \n",
       "3  1671100  \n",
       "4  2173900  "
      ]
     },
     "execution_count": 30,
     "metadata": {},
     "output_type": "execute_result"
    }
   ],
   "source": [
    "VTI_Price.head()"
   ]
  },
  {
   "cell_type": "code",
   "execution_count": 31,
   "id": "b0413ff5",
   "metadata": {},
   "outputs": [
    {
     "data": {
      "text/html": [
       "<div>\n",
       "<style scoped>\n",
       "    .dataframe tbody tr th:only-of-type {\n",
       "        vertical-align: middle;\n",
       "    }\n",
       "\n",
       "    .dataframe tbody tr th {\n",
       "        vertical-align: top;\n",
       "    }\n",
       "\n",
       "    .dataframe thead th {\n",
       "        text-align: right;\n",
       "    }\n",
       "</style>\n",
       "<table border=\"1\" class=\"dataframe\">\n",
       "  <thead>\n",
       "    <tr style=\"text-align: right;\">\n",
       "      <th></th>\n",
       "      <th>Date</th>\n",
       "      <th>Dividends</th>\n",
       "    </tr>\n",
       "  </thead>\n",
       "  <tbody>\n",
       "    <tr>\n",
       "      <th>0</th>\n",
       "      <td>12/22/2014</td>\n",
       "      <td>0.561</td>\n",
       "    </tr>\n",
       "    <tr>\n",
       "      <th>1</th>\n",
       "      <td>3/25/2015</td>\n",
       "      <td>0.508</td>\n",
       "    </tr>\n",
       "    <tr>\n",
       "      <th>2</th>\n",
       "      <td>6/26/2015</td>\n",
       "      <td>0.468</td>\n",
       "    </tr>\n",
       "    <tr>\n",
       "      <th>3</th>\n",
       "      <td>9/25/2015</td>\n",
       "      <td>0.508</td>\n",
       "    </tr>\n",
       "    <tr>\n",
       "      <th>4</th>\n",
       "      <td>12/21/2015</td>\n",
       "      <td>0.583</td>\n",
       "    </tr>\n",
       "  </tbody>\n",
       "</table>\n",
       "</div>"
      ],
      "text/plain": [
       "         Date  Dividends\n",
       "0  12/22/2014      0.561\n",
       "1   3/25/2015      0.508\n",
       "2   6/26/2015      0.468\n",
       "3   9/25/2015      0.508\n",
       "4  12/21/2015      0.583"
      ]
     },
     "execution_count": 31,
     "metadata": {},
     "output_type": "execute_result"
    }
   ],
   "source": [
    "VTI_Div.head()"
   ]
  },
  {
   "cell_type": "code",
   "execution_count": 32,
   "id": "9638cf99",
   "metadata": {},
   "outputs": [],
   "source": [
    "BND_Price = pd.read_csv(\"BND_Price.csv\")\n",
    "BND_Div = pd.read_csv(\"BND.csv\")"
   ]
  },
  {
   "cell_type": "code",
   "execution_count": 33,
   "id": "13231f92",
   "metadata": {},
   "outputs": [],
   "source": [
    "VGLT_Price = pd.read_csv(\"VGLT_Price.csv\")\n",
    "VGLT_Div = pd.read_csv(\"VGLT.csv\")"
   ]
  },
  {
   "cell_type": "code",
   "execution_count": 34,
   "id": "f19aaf5e",
   "metadata": {},
   "outputs": [],
   "source": [
    "VGIT_Price = pd.read_csv(\"VGIT_Price.csv\")\n",
    "VGIT_Div = pd.read_csv(\"VGIT.csv\")"
   ]
  },
  {
   "cell_type": "code",
   "execution_count": 35,
   "id": "a716e444",
   "metadata": {},
   "outputs": [],
   "source": [
    "IAU_Price = pd.read_csv(\"IAU_Price.csv\")\n",
    "IAU_Div = pd.read_csv(\"IAU.csv\")"
   ]
  },
  {
   "cell_type": "code",
   "execution_count": 36,
   "id": "92a95386",
   "metadata": {},
   "outputs": [],
   "source": [
    "PDBC_Price = pd.read_csv(\"PDBC_Price.csv\")\n",
    "PDBC_Div = pd.read_csv(\"PDBC.csv\")"
   ]
  },
  {
   "cell_type": "code",
   "execution_count": 37,
   "id": "ecf7d65f",
   "metadata": {},
   "outputs": [],
   "source": [
    "def combine_price_div(price_pd, div_pd):\n",
    "    assert len(price_pd) != 0\n",
    "    \n",
    "    result = price_pd[[\"Date\", \"Close\"]].copy()\n",
    "    \n",
    "    if (len(div_pd) == 0):\n",
    "        result[\"Dividends\"] = np.zeros(len(result[\"Date\"]))\n",
    "        return result[:1737]\n",
    "    \n",
    "    result = pd.merge(result, div_pd, on=\"Date\", how=\"left\").fillna(0)\n",
    "    \n",
    "    # 1737 is used since the imported data is from Nov 10 2014 to Mar 25 2022. \n",
    "    # However the correct date of this analysis is Oct 4 2021. And this notebook is an organized recap of the analysis.\n",
    "    return result[:1737]\n",
    "    \n",
    "def calculate_mean_stddev_sharpe(etf):\n",
    "    etf_price = etf[\"Close\"]\n",
    "    forward = etf_price[1:].to_numpy()\n",
    "    current = etf_price[:len(etf_price)-1].to_numpy()\n",
    "    dividends = etf[\"Dividends\"][:len(etf_price)-1].to_numpy()\n",
    "    daily_return = (forward-current+dividends)/current\n",
    "    expected_daily_return = np.mean(daily_return)\n",
    "    daily_return_stddev = np.std(daily_return)\n",
    "    \n",
    "    # This is technically not the sharpe ratio given risk free rate is not taken care.\n",
    "    # Since our purpose is to compare portfolio, this is acceptable.\n",
    "    annualized_sharpe_ratio = (252**0.5)*expected_daily_return/daily_return_stddev\n",
    "    return (expected_daily_return, daily_return_stddev, annualized_sharpe_ratio)\n",
    "\n",
    "def single_etf_pipeline(price_pd, div_pd):\n",
    "    return calculate_mean_stddev_sharpe(combine_price_div(price_pd, div_pd))\n",
    "\n",
    "# This portfolio is based on 60% stock and 40% bond\n",
    "def sixty_forty_portfolio_pipeline(stock, bond):\n",
    "    etf_price = stock[\"Close\"].to_numpy()*0.6 + bond[\"Close\"].to_numpy()*0.4\n",
    "    etf_div = stock[\"Dividends\"].to_numpy()*0.6 + bond[\"Dividends\"].to_numpy()*0.4\n",
    "    \n",
    "    forward = etf_price[1:]\n",
    "    current = etf_price[:len(etf_price)-1]\n",
    "    dividends = etf_div[:len(etf_price)-1]\n",
    "    daily_return = (forward-current+dividends)/current\n",
    "    expected_daily_return = np.mean(daily_return)\n",
    "    daily_return_stddev = np.std(daily_return)\n",
    "    \n",
    "    # This is technically not the sharpe ratio given risk free rate is not taken care.\n",
    "    # Since our purpose is to compare portfolio, this is acceptable.\n",
    "    annualized_sharpe_ratio = (252**0.5)*expected_daily_return/daily_return_stddev\n",
    "    return (expected_daily_return, daily_return_stddev, annualized_sharpe_ratio)\n",
    "\n",
    "# This portfolio tries to mimic Ray Dalio's All Weather Portfolio. There's no guarentee that it's really the case.\n",
    "# The portfolio is made of 30% VTI, 40% VGLT, 15% VGIT, 8% IAU, 7% PDBC\n",
    "# https://www.optimizedportfolio.com/all-weather-portfolio/\n",
    "# It's also suggested to use REIT or Utility ETF suhc as VPU to substitute PDBC.\n",
    "# I feel it's worth\n",
    "def all_weather_portfolio_pipeline(stock, long_bond, short_bond, gold, commodities):\n",
    "    etf_price = stock[\"Close\"].to_numpy()*0.3 + long_bond[\"Close\"].to_numpy()*0.4 +\\\n",
    "                short_bond[\"Close\"].to_numpy()*0.15 + gold[\"Close\"].to_numpy()*0.08 + commodities[\"Close\"].to_numpy()*0.07\n",
    "    etf_div = stock[\"Dividends\"].to_numpy()*0.3 + long_bond[\"Dividends\"].to_numpy()*0.4 +\\\n",
    "                short_bond[\"Dividends\"].to_numpy()*0.15 + gold[\"Dividends\"].to_numpy()*0.08 +\\\n",
    "                commodities[\"Dividends\"].to_numpy()*0.07\n",
    "    \n",
    "    forward = etf_price[1:]\n",
    "    current = etf_price[:len(etf_price)-1]\n",
    "    dividends = etf_div[:len(etf_price)-1]\n",
    "    daily_return = (forward-current+dividends)/current\n",
    "    expected_daily_return = np.mean(daily_return)\n",
    "    daily_return_stddev = np.std(daily_return)\n",
    "    \n",
    "    # This is technically not the sharpe ratio given risk free rate is not taken care.\n",
    "    # Since our purpose is to compare portfolio, this is acceptable.\n",
    "    annualized_sharpe_ratio = (252**0.5)*expected_daily_return/daily_return_stddev\n",
    "    return (expected_daily_return, daily_return_stddev, annualized_sharpe_ratio)"
   ]
  },
  {
   "cell_type": "code",
   "execution_count": 38,
   "id": "26bf7549",
   "metadata": {},
   "outputs": [
    {
     "data": {
      "text/plain": [
       "(0.0005691740927613655, 0.011364958541000348, 0.795019056188215)"
      ]
     },
     "execution_count": 38,
     "metadata": {},
     "output_type": "execute_result"
    }
   ],
   "source": [
    "VTI = combine_price_div(VTI_Price, VTI_Div)\n",
    "VTI_info = calculate_mean_stddev_sharpe(VTI)\n",
    "VTI_info"
   ]
  },
  {
   "cell_type": "code",
   "execution_count": 39,
   "id": "72a2a726",
   "metadata": {},
   "outputs": [
    {
     "data": {
      "text/plain": [
       "(0.00013321079998841498, 0.0030063489424147567, 0.7033966890767309)"
      ]
     },
     "execution_count": 39,
     "metadata": {},
     "output_type": "execute_result"
    }
   ],
   "source": [
    "BND = combine_price_div(BND_Price, BND_Div)\n",
    "BND_info = calculate_mean_stddev_sharpe(BND)\n",
    "BND_info"
   ]
  },
  {
   "cell_type": "code",
   "execution_count": 40,
   "id": "fccb15ff",
   "metadata": {},
   "outputs": [
    {
     "data": {
      "text/plain": [
       "(0.0002350899552468904, 0.008241642496442925, 0.45281475694755663)"
      ]
     },
     "execution_count": 40,
     "metadata": {},
     "output_type": "execute_result"
    }
   ],
   "source": [
    "VGLT = combine_price_div(VGLT_Price, VGLT_Div)\n",
    "VGLT_info = calculate_mean_stddev_sharpe(VGLT)\n",
    "VGLT_info"
   ]
  },
  {
   "cell_type": "code",
   "execution_count": 41,
   "id": "715291c2",
   "metadata": {
    "scrolled": true
   },
   "outputs": [
    {
     "data": {
      "text/plain": [
       "(0.00010522190538599393, 0.0023136771066901538, 0.7219442851106269)"
      ]
     },
     "execution_count": 41,
     "metadata": {},
     "output_type": "execute_result"
    }
   ],
   "source": [
    "VGIT = combine_price_div(VGIT_Price, VGIT_Div)\n",
    "VGIT_info = calculate_mean_stddev_sharpe(VGIT)\n",
    "VGIT_info"
   ]
  },
  {
   "cell_type": "code",
   "execution_count": 42,
   "id": "5779b07f",
   "metadata": {},
   "outputs": [
    {
     "data": {
      "text/plain": [
       "(0.0005640497881070041, 0.028386838313119493, 0.3154283227872054)"
      ]
     },
     "execution_count": 42,
     "metadata": {},
     "output_type": "execute_result"
    }
   ],
   "source": [
    "IAU = combine_price_div(IAU_Price, IAU_Div)\n",
    "IAU_info = calculate_mean_stddev_sharpe(IAU)\n",
    "IAU_info"
   ]
  },
  {
   "cell_type": "code",
   "execution_count": 43,
   "id": "2ef03a50",
   "metadata": {},
   "outputs": [
    {
     "data": {
      "text/plain": [
       "(5.0510876225123846e-05, 0.01115490498651671, 0.07188185851363682)"
      ]
     },
     "execution_count": 43,
     "metadata": {},
     "output_type": "execute_result"
    }
   ],
   "source": [
    "PDBC = combine_price_div(PDBC_Price, PDBC_Div)\n",
    "PDBC_info = calculate_mean_stddev_sharpe(PDBC)\n",
    "PDBC_info"
   ]
  },
  {
   "cell_type": "code",
   "execution_count": 44,
   "id": "d11f92ad",
   "metadata": {},
   "outputs": [
    {
     "data": {
      "text/plain": [
       "(0.0004363054383954725, 0.008112273579222454, 0.853784582869116)"
      ]
     },
     "execution_count": 44,
     "metadata": {},
     "output_type": "execute_result"
    }
   ],
   "source": [
    "sixty_forty_portfolio_pipeline(VTI, BND)"
   ]
  },
  {
   "cell_type": "code",
   "execution_count": 45,
   "id": "0493e50a",
   "metadata": {},
   "outputs": [
    {
     "data": {
      "text/plain": [
       "(0.00035252021351786983, 0.005182691781099125, 1.079764172540325)"
      ]
     },
     "execution_count": 45,
     "metadata": {},
     "output_type": "execute_result"
    }
   ],
   "source": [
    "all_weather_portfolio_pipeline(VTI, VGLT, VGIT, IAU, PDBC)"
   ]
  },
  {
   "cell_type": "code",
   "execution_count": 26,
   "id": "c040b622",
   "metadata": {},
   "outputs": [
    {
     "data": {
      "text/plain": [
       "0.1287783507476547"
      ]
     },
     "execution_count": 26,
     "metadata": {},
     "output_type": "execute_result"
    }
   ],
   "source": [
    "sixty_forty_portfolio_pipeline(VTI, BND)[1]*(252**0.5)"
   ]
  },
  {
   "cell_type": "code",
   "execution_count": 27,
   "id": "9c977399",
   "metadata": {},
   "outputs": [
    {
     "data": {
      "text/plain": [
       "0.08139673571643213"
      ]
     },
     "execution_count": 27,
     "metadata": {},
     "output_type": "execute_result"
    }
   ],
   "source": [
    "all_weather_portfolio_pipeline(VTI, VGLT, VGIT, IAU, PDBC)[1]*(252**0.5)"
   ]
  },
  {
   "cell_type": "code",
   "execution_count": 21,
   "id": "755b49a1",
   "metadata": {},
   "outputs": [],
   "source": [
    "def sixty_forty_portfolio_bootstrap_pipeline(stock, bond):\n",
    "    etf_price = stock[\"Close\"].to_numpy()*0.6 + bond[\"Close\"].to_numpy()*0.4\n",
    "    etf_div = stock[\"Dividends\"].to_numpy()*0.6 + bond[\"Dividends\"].to_numpy()*0.4\n",
    "    \n",
    "    forward = etf_price[1:]\n",
    "    current = etf_price[:len(etf_price)-1]\n",
    "    dividends = etf_div[:len(etf_price)-1]\n",
    "    daily_return = (forward-current+dividends)/current\n",
    "    \n",
    "    daily_return = (daily_return,)\n",
    "   \n",
    "    expected_daily_return = bootstrap(daily_return, np.mean)\n",
    "    daily_return_stddev = bootstrap(daily_return, np.std)\n",
    "    \n",
    "    return (expected_daily_return, daily_return_stddev)\n",
    "\n",
    "def all_weather_portfolio_bootstrap_pipeline(stock, long_bond, short_bond, gold, commodities):\n",
    "    etf_price = stock[\"Close\"].to_numpy()*0.3 + long_bond[\"Close\"].to_numpy()*0.4 +\\\n",
    "                short_bond[\"Close\"].to_numpy()*0.15 + gold[\"Close\"].to_numpy()*0.08 + commodities[\"Close\"].to_numpy()*0.07\n",
    "    etf_div = stock[\"Dividends\"].to_numpy()*0.3 + long_bond[\"Dividends\"].to_numpy()*0.4 +\\\n",
    "                short_bond[\"Dividends\"].to_numpy()*0.15 + gold[\"Dividends\"].to_numpy()*0.08 +\\\n",
    "                commodities[\"Dividends\"].to_numpy()*0.07\n",
    "    \n",
    "    forward = etf_price[1:]\n",
    "    current = etf_price[:len(etf_price)-1]\n",
    "    dividends = etf_div[:len(etf_price)-1]\n",
    "    daily_return = (forward-current+dividends)/current\n",
    "    daily_return = (daily_return,)\n",
    "   \n",
    "    expected_daily_return = bootstrap(daily_return, np.mean)\n",
    "    daily_return_stddev = bootstrap(daily_return, np.std)\n",
    "   \n",
    "    return (expected_daily_return, daily_return_stddev)"
   ]
  },
  {
   "cell_type": "code",
   "execution_count": 22,
   "id": "f2ce4fd9",
   "metadata": {},
   "outputs": [],
   "source": [
    "sixty_forty_bootstrap_res = sixty_forty_portfolio_bootstrap_pipeline(VTI, BND)\n",
    "sixty_forty_return_res, sixty_forty_stddev_res = sixty_forty_bootstrap_res[0], sixty_forty_bootstrap_res[1]\n",
    "all_weather_bootstrap_res = all_weather_portfolio_bootstrap_pipeline(VTI, VGLT, VGIT, IAU, PDBC)\n",
    "all_weather_return_res, all_weather_stddev_res = all_weather_bootstrap_res[0], all_weather_bootstrap_res[1]"
   ]
  },
  {
   "cell_type": "code",
   "execution_count": 75,
   "id": "7cf055db",
   "metadata": {},
   "outputs": [
    {
     "data": {
      "text/plain": [
       "ConfidenceInterval(low=4.4254618552752896e-05, high=0.0008091924942903599)"
      ]
     },
     "execution_count": 75,
     "metadata": {},
     "output_type": "execute_result"
    }
   ],
   "source": [
    "sixty_forty_return_res.confidence_interval"
   ]
  },
  {
   "cell_type": "code",
   "execution_count": 76,
   "id": "386b2da4",
   "metadata": {},
   "outputs": [
    {
     "data": {
      "text/plain": [
       "ConfidenceInterval(low=0.007333056162925891, high=0.009297797571527813)"
      ]
     },
     "execution_count": 76,
     "metadata": {},
     "output_type": "execute_result"
    }
   ],
   "source": [
    "sixty_forty_stddev_res.confidence_interval"
   ]
  },
  {
   "cell_type": "code",
   "execution_count": 77,
   "id": "8c75fbab",
   "metadata": {},
   "outputs": [
    {
     "data": {
      "text/plain": [
       "ConfidenceInterval(low=0.00010046273198481245, high=0.0005945257271046198)"
      ]
     },
     "execution_count": 77,
     "metadata": {},
     "output_type": "execute_result"
    }
   ],
   "source": [
    "all_weather_return_res.confidence_interval"
   ]
  },
  {
   "cell_type": "code",
   "execution_count": 78,
   "id": "a376a185",
   "metadata": {},
   "outputs": [
    {
     "data": {
      "text/plain": [
       "ConfidenceInterval(low=0.004811213346973598, high=0.005778461799732432)"
      ]
     },
     "execution_count": 78,
     "metadata": {},
     "output_type": "execute_result"
    }
   ],
   "source": [
    "all_weather_stddev_res.confidence_interval"
   ]
  },
  {
   "cell_type": "markdown",
   "id": "3f6b7830",
   "metadata": {},
   "source": [
    "The following is not the correct way to calculate sharpe ratio confidence interval. But it may give us some ideas."
   ]
  },
  {
   "cell_type": "code",
   "execution_count": 81,
   "id": "5da1f46c",
   "metadata": {},
   "outputs": [
    {
     "data": {
      "text/plain": [
       "1.7517297468656923"
      ]
     },
     "execution_count": 81,
     "metadata": {},
     "output_type": "execute_result"
    }
   ],
   "source": [
    "(252**0.5)*sixty_forty_return_res.confidence_interval.high/sixty_forty_stddev_res.confidence_interval.low"
   ]
  },
  {
   "cell_type": "code",
   "execution_count": 82,
   "id": "00011c99",
   "metadata": {},
   "outputs": [
    {
     "data": {
      "text/plain": [
       "1.9616264445285372"
      ]
     },
     "execution_count": 82,
     "metadata": {},
     "output_type": "execute_result"
    }
   ],
   "source": [
    "(252**0.5)*all_weather_return_res.confidence_interval.high/all_weather_stddev_res.confidence_interval.low"
   ]
  },
  {
   "cell_type": "code",
   "execution_count": 83,
   "id": "ad55498d",
   "metadata": {},
   "outputs": [
    {
     "data": {
      "text/plain": [
       "0.07555770976246559"
      ]
     },
     "execution_count": 83,
     "metadata": {},
     "output_type": "execute_result"
    }
   ],
   "source": [
    "(252**0.5)*sixty_forty_return_res.confidence_interval.low/sixty_forty_stddev_res.confidence_interval.high"
   ]
  },
  {
   "cell_type": "code",
   "execution_count": 84,
   "id": "e8f8cbe9",
   "metadata": {},
   "outputs": [
    {
     "data": {
      "text/plain": [
       "0.27598978490184617"
      ]
     },
     "execution_count": 84,
     "metadata": {},
     "output_type": "execute_result"
    }
   ],
   "source": [
    "(252**0.5)*all_weather_return_res.confidence_interval.low/all_weather_stddev_res.confidence_interval.high"
   ]
  },
  {
   "cell_type": "code",
   "execution_count": 96,
   "id": "e00ced7e",
   "metadata": {},
   "outputs": [],
   "source": [
    "def std_diff(a, b):\n",
    "    return np.std(a)-np.std(b)\n",
    "\n",
    "def test_risk(stock, bond, long_bond, short_bond, gold, commodities):\n",
    "    etf_price = stock[\"Close\"].to_numpy()*0.6 + bond[\"Close\"].to_numpy()*0.4\n",
    "    etf_div = stock[\"Dividends\"].to_numpy()*0.6 + bond[\"Dividends\"].to_numpy()*0.4\n",
    "    \n",
    "    forward = etf_price[1:]\n",
    "    current = etf_price[:len(etf_price)-1]\n",
    "    dividends = etf_div[:len(etf_price)-1]\n",
    "    daily_return_1 = (forward-current+dividends)/current\n",
    "    \n",
    "\n",
    "    etf_price = stock[\"Close\"].to_numpy()*0.3 + long_bond[\"Close\"].to_numpy()*0.4 +\\\n",
    "                short_bond[\"Close\"].to_numpy()*0.15 + gold[\"Close\"].to_numpy()*0.08 + commodities[\"Close\"].to_numpy()*0.07\n",
    "    etf_div = stock[\"Dividends\"].to_numpy()*0.3 + long_bond[\"Dividends\"].to_numpy()*0.4 +\\\n",
    "                short_bond[\"Dividends\"].to_numpy()*0.15 + gold[\"Dividends\"].to_numpy()*0.08 +\\\n",
    "                commodities[\"Dividends\"].to_numpy()*0.07\n",
    "    \n",
    "    forward = etf_price[1:]\n",
    "    current = etf_price[:len(etf_price)-1]\n",
    "    dividends = etf_div[:len(etf_price)-1]\n",
    "    daily_return_2 = (forward-current+dividends)/current\n",
    "    daily_return = (daily_return_1, daily_return_2,)\n",
    "   \n",
    "    daily_return_stddev = bootstrap(daily_return, std_diff, method=\"percentile\", vectorized=False)\n",
    "    #daily_return_stddev = std_diff(daily_return_1, daily_return_2)\n",
    "   \n",
    "    return daily_return_stddev"
   ]
  },
  {
   "cell_type": "code",
   "execution_count": 97,
   "id": "c6a7633e",
   "metadata": {},
   "outputs": [
    {
     "data": {
      "text/plain": [
       "BootstrapResult(confidence_interval=ConfidenceInterval(low=0.0018940789034736338, high=0.004001169478868422), standard_error=0.0005363582393951279)"
      ]
     },
     "execution_count": 97,
     "metadata": {},
     "output_type": "execute_result"
    }
   ],
   "source": [
    "test_risk(VTI, BND, VGLT, VGIT, IAU, PDBC)"
   ]
  },
  {
   "cell_type": "markdown",
   "id": "eedc7d3a",
   "metadata": {},
   "source": [
    "It seems that all weather portfolio performs better. Now let's see my gain. Assume I bought $1000 for each portfolio at Oct 4 2021. See how much this 1000 becomes at Mar 25 2022."
   ]
  },
  {
   "cell_type": "code",
   "execution_count": 48,
   "id": "7ac08b0e",
   "metadata": {},
   "outputs": [],
   "source": [
    "def combine_price_div(price_pd, div_pd):\n",
    "    assert len(price_pd) != 0\n",
    "    \n",
    "    result = price_pd[[\"Date\", \"Close\"]].copy()\n",
    "    \n",
    "    if (len(div_pd) == 0):\n",
    "        result[\"Dividends\"] = np.zeros(len(result[\"Date\"]))\n",
    "        return result[1737:]\n",
    "    \n",
    "    result = pd.merge(result, div_pd, on=\"Date\", how=\"left\").fillna(0)\n",
    "    \n",
    "    # 1737 is used since the imported data is from Nov 10 2014 to Mar 25 2022. \n",
    "    # However the correct date of this analysis is Oct 4 2021. And this notebook is an organized recap of the analysis.\n",
    "    return result[1737:]\n",
    "\n",
    "# This portfolio is based on 60% stock and 40% bond\n",
    "def sixty_forty_portfolio_pipeline(stock, bond):\n",
    "    etf_price = stock[\"Close\"].to_numpy()*0.6 + bond[\"Close\"].to_numpy()*0.4\n",
    "    etf_div = stock[\"Dividends\"].to_numpy()*0.6 + bond[\"Dividends\"].to_numpy()*0.4\n",
    "    \n",
    "    forward = etf_price[1:]\n",
    "    current = etf_price[:len(etf_price)-1]\n",
    "    dividends = etf_div[:len(etf_price)-1]\n",
    "    \n",
    "    return 1000*etf_price[-1]/etf_price[0]+(1000/etf_price[0])*sum(dividends)\n",
    "\n",
    "# This portfolio tries to mimic Ray Dalio's All Weather Portfolio. There's no guarentee that it's really the case.\n",
    "# The portfolio is made of 30% VTI, 40% VGLT, 15% VGIT, 8% IAU, 7% PDBC\n",
    "# https://www.optimizedportfolio.com/all-weather-portfolio/\n",
    "# It's also suggested to use REIT or Utility ETF suhc as VPU to substitute PDBC.\n",
    "# I feel it's worth\n",
    "def all_weather_portfolio_pipeline(stock, long_bond, short_bond, gold, commodities):\n",
    "    etf_price = stock[\"Close\"].to_numpy()*0.3 + long_bond[\"Close\"].to_numpy()*0.4 +\\\n",
    "                short_bond[\"Close\"].to_numpy()*0.15 + gold[\"Close\"].to_numpy()*0.08 + commodities[\"Close\"].to_numpy()*0.07\n",
    "    etf_div = stock[\"Dividends\"].to_numpy()*0.3 + long_bond[\"Dividends\"].to_numpy()*0.4 +\\\n",
    "                short_bond[\"Dividends\"].to_numpy()*0.15 + gold[\"Dividends\"].to_numpy()*0.08 +\\\n",
    "                commodities[\"Dividends\"].to_numpy()*0.07\n",
    "    \n",
    "    forward = etf_price[1:]\n",
    "    current = etf_price[:len(etf_price)-1]\n",
    "    dividends = etf_div[:len(etf_price)-1]\n",
    "    return 1000*etf_price[-1]/etf_price[0]+(1000/etf_price[0])*sum(dividends)"
   ]
  },
  {
   "cell_type": "code",
   "execution_count": 49,
   "id": "92fda24f",
   "metadata": {},
   "outputs": [],
   "source": [
    "VTI = combine_price_div(VTI_Price, VTI_Div)\n",
    "BND = combine_price_div(BND_Price, BND_Div)\n",
    "VGLT = combine_price_div(VGLT_Price, VGLT_Div)\n",
    "VGIT = combine_price_div(VGIT_Price, VGIT_Div)\n",
    "IAU = combine_price_div(IAU_Price, IAU_Div)\n",
    "PDBC = combine_price_div(PDBC_Price, PDBC_Div)"
   ]
  },
  {
   "cell_type": "code",
   "execution_count": 50,
   "id": "4bcdc0a7",
   "metadata": {},
   "outputs": [
    {
     "data": {
      "text/plain": [
       "1007.0575111544539"
      ]
     },
     "execution_count": 50,
     "metadata": {},
     "output_type": "execute_result"
    }
   ],
   "source": [
    "sixty_forty_portfolio_pipeline(VTI, BND)"
   ]
  },
  {
   "cell_type": "code",
   "execution_count": 51,
   "id": "cbbdba1a",
   "metadata": {},
   "outputs": [
    {
     "data": {
      "text/plain": [
       "984.8812871079547"
      ]
     },
     "execution_count": 51,
     "metadata": {},
     "output_type": "execute_result"
    }
   ],
   "source": [
    "all_weather_portfolio_pipeline(VTI, VGLT, VGIT, IAU, PDBC)"
   ]
  },
  {
   "cell_type": "code",
   "execution_count": 54,
   "id": "80ac6c1a",
   "metadata": {},
   "outputs": [
    {
     "data": {
      "text/plain": [
       "0.806"
      ]
     },
     "execution_count": 54,
     "metadata": {},
     "output_type": "execute_result"
    }
   ],
   "source": [
    "sum(BND[\"Dividends\"])"
   ]
  },
  {
   "cell_type": "code",
   "execution_count": 55,
   "id": "2612aa03",
   "metadata": {},
   "outputs": [
    {
     "data": {
      "text/plain": [
       "0.661"
      ]
     },
     "execution_count": 55,
     "metadata": {},
     "output_type": "execute_result"
    }
   ],
   "source": [
    "sum(VGLT[\"Dividends\"])"
   ]
  },
  {
   "cell_type": "code",
   "execution_count": 56,
   "id": "05b9c9ab",
   "metadata": {},
   "outputs": [
    {
     "data": {
      "text/plain": [
       "0.6729999999999998"
      ]
     },
     "execution_count": 56,
     "metadata": {},
     "output_type": "execute_result"
    }
   ],
   "source": [
    "sum(VGIT[\"Dividends\"])"
   ]
  },
  {
   "cell_type": "code",
   "execution_count": null,
   "id": "870ad0ed",
   "metadata": {},
   "outputs": [],
   "source": []
  }
 ],
 "metadata": {
  "kernelspec": {
   "display_name": "Python 3 (ipykernel)",
   "language": "python",
   "name": "python3"
  },
  "language_info": {
   "codemirror_mode": {
    "name": "ipython",
    "version": 3
   },
   "file_extension": ".py",
   "mimetype": "text/x-python",
   "name": "python",
   "nbconvert_exporter": "python",
   "pygments_lexer": "ipython3",
   "version": "3.9.5"
  }
 },
 "nbformat": 4,
 "nbformat_minor": 5
}
