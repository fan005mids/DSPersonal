{
 "cells": [
  {
   "cell_type": "code",
   "execution_count": 1,
   "id": "c23691ea",
   "metadata": {},
   "outputs": [],
   "source": [
    "#Merge PDF\n",
    "\n",
    "from PyPDF2 import PdfFileMerger, PdfFileReader\n",
    "mergedObject = PdfFileMerger()\n",
    "for fileNumber in range(1, 5):\n",
    "    mergedObject.append(PdfFileReader(str(fileNumber)+ '.pdf', 'rb'))\n",
    "mergedObject.write(\"mergedfilesoutput.pdf\")"
   ]
  },
  {
   "cell_type": "code",
   "execution_count": 2,
   "id": "d8774dd2",
   "metadata": {},
   "outputs": [],
   "source": [
    "# Convert Webpage to PDF\n",
    "\n",
    "import pdfkit\n",
    "#pdfkit.from_file('/home/ubuntu/test.html','output.pdf')\n",
    "\n",
    "#pdfkit.from_url('https://oec.world/en/product-landing/hs','OEC Products.pdf')"
   ]
  },
  {
   "cell_type": "code",
   "execution_count": null,
   "id": "f5328cb4",
   "metadata": {},
   "outputs": [],
   "source": []
  }
 ],
 "metadata": {
  "kernelspec": {
   "display_name": "Python 3 (ipykernel)",
   "language": "python",
   "name": "python3"
  },
  "language_info": {
   "codemirror_mode": {
    "name": "ipython",
    "version": 3
   },
   "file_extension": ".py",
   "mimetype": "text/x-python",
   "name": "python",
   "nbconvert_exporter": "python",
   "pygments_lexer": "ipython3",
   "version": "3.9.13"
  }
 },
 "nbformat": 4,
 "nbformat_minor": 5
}
