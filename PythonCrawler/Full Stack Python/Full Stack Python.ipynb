{
 "cells": [
  {
   "cell_type": "code",
   "execution_count": 1,
   "id": "6080b283",
   "metadata": {
    "scrolled": true
   },
   "outputs": [],
   "source": [
    "# Crawl\n",
    "\n",
    "\n",
    "import requests\n",
    "from bs4 import BeautifulSoup\n",
    "\n",
    "url = \"https://www.fullstackpython.com/table-of-contents.html\"\n",
    "\n",
    "reqs = requests.get(url)\n",
    "#encoding = \"utf-8\"\n",
    "soup = BeautifulSoup(reqs.content, 'html.parser')\n",
    "\n",
    "urls = []\n",
    "for link in soup.find_all('a'):\n",
    "    urls.append(link.get('href'))\n",
    "selected_urls = urls[8:177]"
   ]
  },
  {
   "cell_type": "code",
   "execution_count": 2,
   "id": "f0da9334",
   "metadata": {
    "scrolled": true
   },
   "outputs": [],
   "source": [
    "final_urls = []\n",
    "head_url = \"https://www.fullstackpython.com\"\n",
    "final_urls.append(head_url)\n",
    "for u in selected_urls:\n",
    "    final_urls.append(head_url+u)"
   ]
  },
  {
   "cell_type": "code",
   "execution_count": 3,
   "id": "43869ede",
   "metadata": {},
   "outputs": [
    {
     "data": {
      "text/plain": [
       "170"
      ]
     },
     "execution_count": 3,
     "metadata": {},
     "output_type": "execute_result"
    }
   ],
   "source": [
    "len(final_urls)"
   ]
  },
  {
   "cell_type": "code",
   "execution_count": 6,
   "id": "daa04a9a",
   "metadata": {},
   "outputs": [],
   "source": [
    "from PyPDF2 import PdfMerger, PdfReader\n",
    "#pyhtml2pdf not working, code deleted. If interested you may consult with previous notebooks\n",
    "#from pyhtml2pdf import converter\n",
    "\n",
    "import weasyprint as wp\n",
    "from weasyprint import HTML\n",
    "import requests\n",
    "\n",
    "def download_file(download_url, filename):\n",
    "    \n",
    "    # Use requests to get the HTML content of the page\n",
    "    response = requests.get(download_url)\n",
    "    html_content = response.content.decode('utf-8')\n",
    "\n",
    "    # Convert the HTML content to a PDF\n",
    "    HTML(string=html_content, base_url=download_url).write_pdf(filename)"
   ]
  },
  {
   "cell_type": "code",
   "execution_count": 7,
   "id": "8885e19f",
   "metadata": {
    "scrolled": true
   },
   "outputs": [],
   "source": [
    "mergedObject = PdfMerger()\n",
    "for fileNumber in range(len(final_urls)):\n",
    "    pdf_path = final_urls[fileNumber]\n",
    "    file_str = str(fileNumber)+ '.pdf'\n",
    "\n",
    "    download_file(pdf_path, file_str)\n",
    "                \n",
    "    mergedObject.append(PdfReader(file_str, 'rb'))\n",
    "\n",
    "mergedObject.write(\"mergedfilesoutput.pdf\")"
   ]
  },
  {
   "cell_type": "code",
   "execution_count": null,
   "id": "f619b57c",
   "metadata": {},
   "outputs": [],
   "source": []
  }
 ],
 "metadata": {
  "kernelspec": {
   "display_name": "Python 3 (ipykernel)",
   "language": "python",
   "name": "python3"
  },
  "language_info": {
   "codemirror_mode": {
    "name": "ipython",
    "version": 3
   },
   "file_extension": ".py",
   "mimetype": "text/x-python",
   "name": "python",
   "nbconvert_exporter": "python",
   "pygments_lexer": "ipython3",
   "version": "3.9.13"
  }
 },
 "nbformat": 4,
 "nbformat_minor": 5
}
