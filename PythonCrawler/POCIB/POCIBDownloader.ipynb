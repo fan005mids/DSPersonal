{
 "cells": [
  {
   "cell_type": "code",
   "execution_count": 1,
   "id": "6080b283",
   "metadata": {
    "scrolled": true
   },
   "outputs": [
    {
     "data": {
      "text/plain": [
       "['首页.html',\n",
       " '首页.html',\n",
       " 'POCIB常见问题.html',\n",
       " '索赔常见问题.html',\n",
       " '安装使用常见问题.html',\n",
       " 'POCIB仲裁.html',\n",
       " '国际收支网上申报.html',\n",
       " '外汇监测系统网上申报.html',\n",
       " '签订合同.html',\n",
       " '常用单证.html',\n",
       " '出口报价.html',\n",
       " '进口核算.html',\n",
       " 'POCIB视频教程.html',\n",
       " '操作示例：T／T＋CPT＋空运.html',\n",
       " '操作示例：T／T＋CIF＋海运.html',\n",
       " '操作示例：T／T＋FCA＋空运.html',\n",
       " '操作示例：D／A＋CIF＋海运.html',\n",
       " '操作示例：D／P＋CIP＋空运.html',\n",
       " '操作示例：L／C＋FOB＋海运.html',\n",
       " '支付方式.html',\n",
       " '信用证.html',\n",
       " '托收.html',\n",
       " '投保.html',\n",
       " '订舱.html',\n",
       " '出口报检.html',\n",
       " '出口报关.html',\n",
       " '交单.html',\n",
       " '出口押汇.html',\n",
       " '进口报检.html',\n",
       " '进口报关.html',\n",
       " '支付运费.html',\n",
       " '付款.html',\n",
       " '承兑.html',\n",
       " '索赔.html',\n",
       " '什么是POCIB.html',\n",
       " 'POCIB如何提高外贸从业技能.html',\n",
       " 'POCIB实训目标和要求.html',\n",
       " 'POCIB快速入门.html',\n",
       " 'POCIB视频教程.html',\n",
       " '贸易基础知识.html',\n",
       " '交易准备.html',\n",
       " '交易磋商.html',\n",
       " '报价核算.html',\n",
       " '广告信息范本.html',\n",
       " '签订合同.html',\n",
       " '履约流程.html',\n",
       " '常用单证.html',\n",
       " '贸易函电书写规范.html',\n",
       " '贸易函电范本.html',\n",
       " '如何选择集装箱.html',\n",
       " '运费.html',\n",
       " '如何选择商品.html',\n",
       " '选择有利的计价货币.html',\n",
       " '选用适合的运输方式.html',\n",
       " '结算方式的风险及应对.html',\n",
       " '商品详细资料.html',\n",
       " '商品相关计算方法.html',\n",
       " '办事部门一览表.html',\n",
       " '各流程提交单据列表.html',\n",
       " '各机构业务办理时间一览表.html',\n",
       " '单据来源和签发时间列表.html',\n",
       " '融资.html',\n",
       " '货物贸易外汇管理制度改革.html',\n",
       " '联合国国际货物销售合同公约.html',\n",
       " '中华人民共和国对外贸易法.html',\n",
       " '托收统一规则.html',\n",
       " '跟单信用证统一惯例.html',\n",
       " '中华人民共和国海关法.html',\n",
       " '中华人民共和国海商法.html',\n",
       " '见索即付保函统一规则.html']"
      ]
     },
     "execution_count": 1,
     "metadata": {},
     "output_type": "execute_result"
    }
   ],
   "source": [
    "# Crawl\n",
    "\n",
    "\n",
    "import requests\n",
    "from bs4 import BeautifulSoup\n",
    "\n",
    "url = 'http://www.pocib.com/baike/%E9%A6%96%E9%A1%B5.html'\n",
    "\n",
    "reqs = requests.get(url)\n",
    "encoding = \"utf-8\"\n",
    "soup = BeautifulSoup(reqs.content, 'html.parser')\n",
    "\n",
    "urls = []\n",
    "for link in soup.find_all('a'):\n",
    "    urls.append(link.get('href'))\n",
    "urls"
   ]
  },
  {
   "cell_type": "code",
   "execution_count": 2,
   "id": "f0da9334",
   "metadata": {
    "scrolled": true
   },
   "outputs": [
    {
     "name": "stdout",
     "output_type": "stream",
     "text": [
      "首页.html\n",
      "首页.html\n",
      "POCIB常见问题.html\n",
      "索赔常见问题.html\n",
      "安装使用常见问题.html\n",
      "POCIB仲裁.html\n",
      "国际收支网上申报.html\n",
      "外汇监测系统网上申报.html\n",
      "签订合同.html\n",
      "常用单证.html\n",
      "出口报价.html\n",
      "进口核算.html\n",
      "POCIB视频教程.html\n",
      "操作示例：T／T＋CPT＋空运.html\n",
      "操作示例：T／T＋CIF＋海运.html\n",
      "操作示例：T／T＋FCA＋空运.html\n",
      "操作示例：D／A＋CIF＋海运.html\n",
      "操作示例：D／P＋CIP＋空运.html\n",
      "操作示例：L／C＋FOB＋海运.html\n",
      "支付方式.html\n",
      "信用证.html\n",
      "托收.html\n",
      "投保.html\n",
      "订舱.html\n",
      "出口报检.html\n",
      "出口报关.html\n",
      "交单.html\n",
      "出口押汇.html\n",
      "进口报检.html\n",
      "进口报关.html\n",
      "支付运费.html\n",
      "付款.html\n",
      "承兑.html\n",
      "索赔.html\n",
      "什么是POCIB.html\n",
      "POCIB如何提高外贸从业技能.html\n",
      "POCIB实训目标和要求.html\n",
      "POCIB快速入门.html\n",
      "POCIB视频教程.html\n",
      "贸易基础知识.html\n",
      "交易准备.html\n",
      "交易磋商.html\n",
      "报价核算.html\n",
      "广告信息范本.html\n",
      "签订合同.html\n",
      "履约流程.html\n",
      "常用单证.html\n",
      "贸易函电书写规范.html\n",
      "贸易函电范本.html\n",
      "如何选择集装箱.html\n",
      "运费.html\n",
      "如何选择商品.html\n",
      "选择有利的计价货币.html\n",
      "选用适合的运输方式.html\n",
      "结算方式的风险及应对.html\n",
      "商品详细资料.html\n",
      "商品相关计算方法.html\n",
      "办事部门一览表.html\n",
      "各流程提交单据列表.html\n",
      "各机构业务办理时间一览表.html\n",
      "单据来源和签发时间列表.html\n",
      "融资.html\n",
      "货物贸易外汇管理制度改革.html\n",
      "联合国国际货物销售合同公约.html\n",
      "中华人民共和国对外贸易法.html\n",
      "托收统一规则.html\n",
      "跟单信用证统一惯例.html\n",
      "中华人民共和国海关法.html\n",
      "中华人民共和国海商法.html\n",
      "见索即付保函统一规则.html\n"
     ]
    }
   ],
   "source": [
    "import re\n",
    "urls_filtered_list = []\n",
    "for u in urls:\n",
    "    for i in re.findall('.+html', str(u)):\n",
    "        if i not in urls_filtered_list:\n",
    "            print(i)\n",
    "            urls_filtered_list.append(\"http://www.pocib.com/baike/\"+i)\n",
    "            \n",
    "urls_filtered_list = urls_filtered_list[1:-1]"
   ]
  },
  {
   "cell_type": "code",
   "execution_count": 3,
   "id": "b6a418d1",
   "metadata": {
    "scrolled": true
   },
   "outputs": [
    {
     "data": {
      "text/plain": [
       "['http://www.pocib.com/baike/首页.html',\n",
       " 'http://www.pocib.com/baike/POCIB常见问题.html',\n",
       " 'http://www.pocib.com/baike/索赔常见问题.html',\n",
       " 'http://www.pocib.com/baike/安装使用常见问题.html',\n",
       " 'http://www.pocib.com/baike/POCIB仲裁.html',\n",
       " 'http://www.pocib.com/baike/国际收支网上申报.html',\n",
       " 'http://www.pocib.com/baike/外汇监测系统网上申报.html',\n",
       " 'http://www.pocib.com/baike/签订合同.html',\n",
       " 'http://www.pocib.com/baike/常用单证.html',\n",
       " 'http://www.pocib.com/baike/出口报价.html',\n",
       " 'http://www.pocib.com/baike/进口核算.html',\n",
       " 'http://www.pocib.com/baike/POCIB视频教程.html',\n",
       " 'http://www.pocib.com/baike/操作示例：T／T＋CPT＋空运.html',\n",
       " 'http://www.pocib.com/baike/操作示例：T／T＋CIF＋海运.html',\n",
       " 'http://www.pocib.com/baike/操作示例：T／T＋FCA＋空运.html',\n",
       " 'http://www.pocib.com/baike/操作示例：D／A＋CIF＋海运.html',\n",
       " 'http://www.pocib.com/baike/操作示例：D／P＋CIP＋空运.html',\n",
       " 'http://www.pocib.com/baike/操作示例：L／C＋FOB＋海运.html',\n",
       " 'http://www.pocib.com/baike/支付方式.html',\n",
       " 'http://www.pocib.com/baike/信用证.html',\n",
       " 'http://www.pocib.com/baike/托收.html',\n",
       " 'http://www.pocib.com/baike/投保.html',\n",
       " 'http://www.pocib.com/baike/订舱.html',\n",
       " 'http://www.pocib.com/baike/出口报检.html',\n",
       " 'http://www.pocib.com/baike/出口报关.html',\n",
       " 'http://www.pocib.com/baike/交单.html',\n",
       " 'http://www.pocib.com/baike/出口押汇.html',\n",
       " 'http://www.pocib.com/baike/进口报检.html',\n",
       " 'http://www.pocib.com/baike/进口报关.html',\n",
       " 'http://www.pocib.com/baike/支付运费.html',\n",
       " 'http://www.pocib.com/baike/付款.html',\n",
       " 'http://www.pocib.com/baike/承兑.html',\n",
       " 'http://www.pocib.com/baike/索赔.html',\n",
       " 'http://www.pocib.com/baike/什么是POCIB.html',\n",
       " 'http://www.pocib.com/baike/POCIB如何提高外贸从业技能.html',\n",
       " 'http://www.pocib.com/baike/POCIB实训目标和要求.html',\n",
       " 'http://www.pocib.com/baike/POCIB快速入门.html',\n",
       " 'http://www.pocib.com/baike/POCIB视频教程.html',\n",
       " 'http://www.pocib.com/baike/贸易基础知识.html',\n",
       " 'http://www.pocib.com/baike/交易准备.html',\n",
       " 'http://www.pocib.com/baike/交易磋商.html',\n",
       " 'http://www.pocib.com/baike/报价核算.html',\n",
       " 'http://www.pocib.com/baike/广告信息范本.html',\n",
       " 'http://www.pocib.com/baike/签订合同.html',\n",
       " 'http://www.pocib.com/baike/履约流程.html',\n",
       " 'http://www.pocib.com/baike/常用单证.html',\n",
       " 'http://www.pocib.com/baike/贸易函电书写规范.html',\n",
       " 'http://www.pocib.com/baike/贸易函电范本.html',\n",
       " 'http://www.pocib.com/baike/如何选择集装箱.html',\n",
       " 'http://www.pocib.com/baike/运费.html',\n",
       " 'http://www.pocib.com/baike/如何选择商品.html',\n",
       " 'http://www.pocib.com/baike/选择有利的计价货币.html',\n",
       " 'http://www.pocib.com/baike/选用适合的运输方式.html',\n",
       " 'http://www.pocib.com/baike/结算方式的风险及应对.html',\n",
       " 'http://www.pocib.com/baike/商品详细资料.html',\n",
       " 'http://www.pocib.com/baike/商品相关计算方法.html',\n",
       " 'http://www.pocib.com/baike/办事部门一览表.html',\n",
       " 'http://www.pocib.com/baike/各流程提交单据列表.html',\n",
       " 'http://www.pocib.com/baike/各机构业务办理时间一览表.html',\n",
       " 'http://www.pocib.com/baike/单据来源和签发时间列表.html',\n",
       " 'http://www.pocib.com/baike/融资.html',\n",
       " 'http://www.pocib.com/baike/货物贸易外汇管理制度改革.html',\n",
       " 'http://www.pocib.com/baike/联合国国际货物销售合同公约.html',\n",
       " 'http://www.pocib.com/baike/中华人民共和国对外贸易法.html',\n",
       " 'http://www.pocib.com/baike/托收统一规则.html',\n",
       " 'http://www.pocib.com/baike/跟单信用证统一惯例.html',\n",
       " 'http://www.pocib.com/baike/中华人民共和国海关法.html',\n",
       " 'http://www.pocib.com/baike/中华人民共和国海商法.html']"
      ]
     },
     "execution_count": 3,
     "metadata": {},
     "output_type": "execute_result"
    }
   ],
   "source": [
    "urls_filtered_list"
   ]
  },
  {
   "cell_type": "code",
   "execution_count": 4,
   "id": "5ab981e2",
   "metadata": {
    "scrolled": true
   },
   "outputs": [
    {
     "data": {
      "text/plain": [
       "68"
      ]
     },
     "execution_count": 4,
     "metadata": {},
     "output_type": "execute_result"
    }
   ],
   "source": [
    "len(urls_filtered_list)"
   ]
  },
  {
   "cell_type": "code",
   "execution_count": 5,
   "id": "daa04a9a",
   "metadata": {},
   "outputs": [],
   "source": [
    "from PyPDF2 import PdfMerger, PdfReader\n",
    "from pyhtml2pdf import converter\n",
    "\n",
    "def download_file(download_url, filename):\n",
    "    converter.convert(download_url, filename, print_options={\"displayHeaderFooter\": True})"
   ]
  },
  {
   "cell_type": "code",
   "execution_count": 6,
   "id": "8885e19f",
   "metadata": {
    "scrolled": true
   },
   "outputs": [],
   "source": [
    "mergedObject = PdfMerger()\n",
    "for fileNumber in range(len(urls_filtered_list)):\n",
    "    pdf_path = urls_filtered_list[fileNumber]\n",
    "    file_str = str(fileNumber)+ '.pdf'\n",
    "\n",
    "    download_file(pdf_path, file_str)\n",
    "                \n",
    "    mergedObject.append(PdfReader(file_str, 'rb'))\n",
    "\n",
    "mergedObject.write(\"mergedfilesoutput.pdf\")"
   ]
  },
  {
   "cell_type": "code",
   "execution_count": 49,
   "id": "22806cca",
   "metadata": {},
   "outputs": [],
   "source": [
    "# n = 60\n",
    "# download_file(urls_filtered_list[n], str(n)+ '.pdf')"
   ]
  },
  {
   "cell_type": "code",
   "execution_count": 50,
   "id": "b1f6dd12",
   "metadata": {},
   "outputs": [],
   "source": [
    "for fileNumber in range(61, len(urls_filtered_list)):\n",
    "    pdf_path = urls_filtered_list[fileNumber]\n",
    "    file_str = str(fileNumber)+ '.pdf'\n",
    "\n",
    "    download_file(pdf_path, file_str)"
   ]
  },
  {
   "cell_type": "code",
   "execution_count": 56,
   "id": "49abfbf3",
   "metadata": {},
   "outputs": [],
   "source": [
    "mergedObject = PdfMerger()\n",
    "for fileNumber in range(len(urls_filtered_list)):\n",
    "    file_str = str(fileNumber)+ '.pdf'\n",
    "                \n",
    "    mergedObject.append(PdfReader(file_str, 'rb'))\n",
    "\n",
    "mergedObject.write(\"mergedfilesoutput.pdf\")"
   ]
  },
  {
   "cell_type": "code",
   "execution_count": null,
   "id": "f619b57c",
   "metadata": {},
   "outputs": [],
   "source": []
  }
 ],
 "metadata": {
  "kernelspec": {
   "display_name": "Python 3 (ipykernel)",
   "language": "python",
   "name": "python3"
  },
  "language_info": {
   "codemirror_mode": {
    "name": "ipython",
    "version": 3
   },
   "file_extension": ".py",
   "mimetype": "text/x-python",
   "name": "python",
   "nbconvert_exporter": "python",
   "pygments_lexer": "ipython3",
   "version": "3.9.13"
  }
 },
 "nbformat": 4,
 "nbformat_minor": 5
}
