{
 "cells": [
  {
   "cell_type": "code",
   "execution_count": 1,
   "id": "6080b283",
   "metadata": {
    "scrolled": true
   },
   "outputs": [
    {
     "data": {
      "text/plain": [
       "['https://www.manula.com/manuals/modern-wall-systems',\n",
       " 'https://www.manula.com/manuals/modern-wall-systems/diy-eifs-inspection?v=1&l=en',\n",
       " '#',\n",
       " 'https://www.manula.com/manuals/modern-wall-systems/diy-eifs-inspection?l=en',\n",
       " None,\n",
       " 'https://www.manula.com/manuals/modern-wall-systems/diy-eifs-inspection?v=1&l=en',\n",
       " '#',\n",
       " 'https://www.manula.com/manuals/modern-wall-systems/diy-eifs-inspection?l=en',\n",
       " None,\n",
       " None,\n",
       " 'https://www.manula.com/manuals/modern-wall-systems/diy-eifs-inspection?v=1&l=en',\n",
       " 'https://www.manula.com/manuals/modern-wall-systems/diy-eifs-inspection/1/en/topic/about-this-manual',\n",
       " 'https://www.manula.com/manuals/modern-wall-systems/diy-eifs-inspection/1/en/topic/disclaimer',\n",
       " 'https://www.manula.com/manuals/modern-wall-systems/diy-eifs-inspection/1/en/topic/eifs-definitions',\n",
       " 'https://www.manula.com/manuals/modern-wall-systems/diy-eifs-inspection/1/en/topic/eifs-vs-stucco',\n",
       " 'https://www.manula.com/manuals/modern-wall-systems/diy-eifs-inspection/1/en/topic/eifs-moisture-problems',\n",
       " 'https://www.manula.com/manuals/modern-wall-systems/diy-eifs-inspection/1/en/topic/eifs-kick-out-flashing',\n",
       " 'https://www.manula.com/manuals/modern-wall-systems/diy-eifs-inspection/1/en/topic/does-eifs-really-leak',\n",
       " 'https://www.manula.com/manuals/modern-wall-systems/diy-eifs-inspection/1/en/topic/caulking',\n",
       " 'https://www.manula.com/manuals/modern-wall-systems/diy-eifs-inspection/1/en/topic/diy-eifs-inspection-checklist',\n",
       " 'https://www.manula.com/manuals/modern-wall-systems/diy-eifs-inspection/1/en/topic/tools-and-equipment',\n",
       " '#',\n",
       " 'https://www.manula.com/manuals/modern-wall-systems/diy-eifs-inspection/1/en/topic/disclaimer',\n",
       " 'https://www.eifswallsystems.com/',\n",
       " 'https://www.eifswallsystems.com/product/eifs-inspection-expenses/',\n",
       " 'https://www.eifswallsystems.com/product/eifs-inspection-expenses/',\n",
       " 'https://www.eima.com',\n",
       " 'https://www.manula.com/manuals/modern-wall-systems/diy-eifs-inspection/1/en/topic/disclaimer',\n",
       " 'https://www.eifswallsystems.com/contact-us/',\n",
       " 'https://www.manula.com/']"
      ]
     },
     "execution_count": 1,
     "metadata": {},
     "output_type": "execute_result"
    }
   ],
   "source": [
    "# Crawl\n",
    "\n",
    "\n",
    "import requests\n",
    "from bs4 import BeautifulSoup\n",
    "\n",
    "url = 'https://www.manula.com/manuals/modern-wall-systems/diy-eifs-inspection/1/en/topic/about-this-manual'\n",
    "\n",
    "reqs = requests.get(url)\n",
    "encoding = \"utf-8\"\n",
    "soup = BeautifulSoup(reqs.content, 'html.parser')\n",
    "\n",
    "urls = []\n",
    "for link in soup.find_all('a'):\n",
    "    urls.append(link.get('href'))\n",
    "urls"
   ]
  },
  {
   "cell_type": "code",
   "execution_count": 5,
   "id": "09de0872",
   "metadata": {},
   "outputs": [],
   "source": [
    "urls = urls[11:21]"
   ]
  },
  {
   "cell_type": "code",
   "execution_count": 6,
   "id": "f0da9334",
   "metadata": {
    "scrolled": true
   },
   "outputs": [
    {
     "data": {
      "text/plain": [
       "['https://www.manula.com/manuals/modern-wall-systems/diy-eifs-inspection/1/en/topic/about-this-manual',\n",
       " 'https://www.manula.com/manuals/modern-wall-systems/diy-eifs-inspection/1/en/topic/disclaimer',\n",
       " 'https://www.manula.com/manuals/modern-wall-systems/diy-eifs-inspection/1/en/topic/eifs-definitions',\n",
       " 'https://www.manula.com/manuals/modern-wall-systems/diy-eifs-inspection/1/en/topic/eifs-vs-stucco',\n",
       " 'https://www.manula.com/manuals/modern-wall-systems/diy-eifs-inspection/1/en/topic/eifs-moisture-problems',\n",
       " 'https://www.manula.com/manuals/modern-wall-systems/diy-eifs-inspection/1/en/topic/eifs-kick-out-flashing',\n",
       " 'https://www.manula.com/manuals/modern-wall-systems/diy-eifs-inspection/1/en/topic/does-eifs-really-leak',\n",
       " 'https://www.manula.com/manuals/modern-wall-systems/diy-eifs-inspection/1/en/topic/caulking',\n",
       " 'https://www.manula.com/manuals/modern-wall-systems/diy-eifs-inspection/1/en/topic/diy-eifs-inspection-checklist',\n",
       " 'https://www.manula.com/manuals/modern-wall-systems/diy-eifs-inspection/1/en/topic/tools-and-equipment']"
      ]
     },
     "execution_count": 6,
     "metadata": {},
     "output_type": "execute_result"
    }
   ],
   "source": [
    "urls"
   ]
  },
  {
   "cell_type": "code",
   "execution_count": 7,
   "id": "b6a418d1",
   "metadata": {
    "scrolled": true
   },
   "outputs": [],
   "source": [
    "urls_filtered_list = urls"
   ]
  },
  {
   "cell_type": "code",
   "execution_count": 8,
   "id": "5ab981e2",
   "metadata": {
    "scrolled": true
   },
   "outputs": [
    {
     "data": {
      "text/plain": [
       "10"
      ]
     },
     "execution_count": 8,
     "metadata": {},
     "output_type": "execute_result"
    }
   ],
   "source": [
    "len(urls_filtered_list)"
   ]
  },
  {
   "cell_type": "code",
   "execution_count": 9,
   "id": "daa04a9a",
   "metadata": {},
   "outputs": [],
   "source": [
    "from PyPDF2 import PdfMerger, PdfReader\n",
    "from pyhtml2pdf import converter\n",
    "\n",
    "def download_file(download_url, filename):\n",
    "    converter.convert(download_url, filename, print_options={\"displayHeaderFooter\": True})"
   ]
  },
  {
   "cell_type": "code",
   "execution_count": 10,
   "id": "8885e19f",
   "metadata": {
    "scrolled": true
   },
   "outputs": [
    {
     "name": "stderr",
     "output_type": "stream",
     "text": [
      "[WDM] - Downloading: 100%|████████████████████████████████████████████████████████| 6.81M/6.81M [00:00<00:00, 27.0MB/s]\n"
     ]
    }
   ],
   "source": [
    "mergedObject = PdfMerger()\n",
    "for fileNumber in range(len(urls_filtered_list)):\n",
    "    pdf_path = urls_filtered_list[fileNumber]\n",
    "    file_str = str(fileNumber)+ '.pdf'\n",
    "\n",
    "    download_file(pdf_path, file_str)\n",
    "                \n",
    "    mergedObject.append(PdfReader(file_str, 'rb'))\n",
    "\n",
    "mergedObject.write(\"mergedfilesoutput.pdf\")"
   ]
  },
  {
   "cell_type": "code",
   "execution_count": 49,
   "id": "22806cca",
   "metadata": {},
   "outputs": [],
   "source": [
    "# n = 60\n",
    "# download_file(urls_filtered_list[n], str(n)+ '.pdf')"
   ]
  },
  {
   "cell_type": "code",
   "execution_count": 11,
   "id": "b1f6dd12",
   "metadata": {},
   "outputs": [],
   "source": [
    "for fileNumber in range(4, 5, 1):\n",
    "    pdf_path = urls_filtered_list[fileNumber]\n",
    "    file_str = str(fileNumber)+ '.pdf'\n",
    "\n",
    "    download_file(pdf_path, file_str)"
   ]
  },
  {
   "cell_type": "code",
   "execution_count": 12,
   "id": "49abfbf3",
   "metadata": {},
   "outputs": [],
   "source": [
    "mergedObject = PdfMerger()\n",
    "for fileNumber in range(len(urls_filtered_list)):\n",
    "    file_str = str(fileNumber)+ '.pdf'\n",
    "                \n",
    "    mergedObject.append(PdfReader(file_str, 'rb'))\n",
    "\n",
    "mergedObject.write(\"mergedfilesoutput.pdf\")"
   ]
  },
  {
   "cell_type": "code",
   "execution_count": null,
   "id": "f619b57c",
   "metadata": {},
   "outputs": [],
   "source": []
  }
 ],
 "metadata": {
  "kernelspec": {
   "display_name": "Python 3 (ipykernel)",
   "language": "python",
   "name": "python3"
  },
  "language_info": {
   "codemirror_mode": {
    "name": "ipython",
    "version": 3
   },
   "file_extension": ".py",
   "mimetype": "text/x-python",
   "name": "python",
   "nbconvert_exporter": "python",
   "pygments_lexer": "ipython3",
   "version": "3.9.13"
  }
 },
 "nbformat": 4,
 "nbformat_minor": 5
}
