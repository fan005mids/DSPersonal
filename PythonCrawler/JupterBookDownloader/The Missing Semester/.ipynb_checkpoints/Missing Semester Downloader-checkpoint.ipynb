{
 "cells": [
  {
   "cell_type": "code",
   "execution_count": 2,
   "id": "6080b283",
   "metadata": {
    "scrolled": true
   },
   "outputs": [
    {
     "data": {
      "text/plain": [
       "['/',\n",
       " '/2020/',\n",
       " '/about/',\n",
       " '/2020/course-shell/',\n",
       " '/2020/shell-tools/',\n",
       " '/2020/editors/',\n",
       " '/2020/data-wrangling/',\n",
       " '/2020/command-line/',\n",
       " '/2020/version-control/',\n",
       " '/2020/debugging-profiling/',\n",
       " '/2020/metaprogramming/',\n",
       " '/2020/security/',\n",
       " '/2020/potpourri/',\n",
       " '/2020/qa/',\n",
       " 'https://www.youtube.com/playlist?list=PLyzOVJj3bHQuloKGG59rS43e29ro7I57J',\n",
       " '/2019/']"
      ]
     },
     "execution_count": 2,
     "metadata": {},
     "output_type": "execute_result"
    }
   ],
   "source": [
    "# Crawl\n",
    "\n",
    "\n",
    "import requests\n",
    "from bs4 import BeautifulSoup\n",
    "\n",
    "url = 'https://missing.csail.mit.edu/2020'\n",
    "\n",
    "reqs = requests.get(url)\n",
    "\n",
    "soup = BeautifulSoup(reqs.text, 'html.parser')\n",
    "\n",
    "urls = []\n",
    "for link in soup.find_all('a'):\n",
    "    urls.append(link.get('href'))\n",
    "urls"
   ]
  },
  {
   "cell_type": "code",
   "execution_count": 11,
   "id": "f0da9334",
   "metadata": {},
   "outputs": [
    {
     "name": "stdout",
     "output_type": "stream",
     "text": [
      "/2020/\n",
      "/2020/course-shell/\n",
      "/2020/shell-tools/\n",
      "/2020/editors/\n",
      "/2020/data-wrangling/\n",
      "/2020/command-line/\n",
      "/2020/version-control/\n",
      "/2020/debugging-profiling/\n",
      "/2020/metaprogramming/\n",
      "/2020/security/\n",
      "/2020/potpourri/\n",
      "/2020/qa/\n"
     ]
    }
   ],
   "source": [
    "import re\n",
    "urls_filtered_list = []\n",
    "for u in urls:\n",
    "    for i in re.findall('/2020.+', str(u)):\n",
    "        url_to_be_appended = \"https://missing.csail.mit.edu\"+i\n",
    "        if url_to_be_appended not in urls_filtered_list:\n",
    "            print(i)\n",
    "            urls_filtered_list.append(url_to_be_appended)\n",
    "\n",
    "urls_filtered_list.insert(0, 'https://missing.csail.mit.edu')"
   ]
  },
  {
   "cell_type": "code",
   "execution_count": 14,
   "id": "6d928287",
   "metadata": {},
   "outputs": [
    {
     "data": {
      "text/plain": [
       "['/',\n",
       " '/2020/',\n",
       " '/about/',\n",
       " '/2019/course-overview/',\n",
       " '/2019/virtual-machines/',\n",
       " '/2019/shell/',\n",
       " '/2019/command-line/',\n",
       " '/2019/data-wrangling/',\n",
       " '/2019/editors/',\n",
       " '/2019/version-control/',\n",
       " '/2019/dotfiles/',\n",
       " '/2019/backups/',\n",
       " '/2019/automation/',\n",
       " '/2019/machine-introspection/',\n",
       " '/2019/program-introspection/',\n",
       " '/2019/package-management/',\n",
       " '/2019/os-customization/',\n",
       " '/2019/remote-machines/',\n",
       " '/2019/web/',\n",
       " '/2019/security/',\n",
       " 'https://news.ycombinator.com/item?id=19078281',\n",
       " 'https://lobste.rs/s/h6157x/mit_hacker_tools_lecture_series_on',\n",
       " 'https://www.reddit.com/r/learnprogramming/comments/an42uu/mit_hacker_tools_a_lecture_series_on_programmer/',\n",
       " 'https://www.reddit.com/r/programming/comments/an3xki/mit_hacker_tools_a_lecture_series_on_programmer/',\n",
       " 'https://twitter.com/Jonhoo/status/1091896192332693504',\n",
       " 'https://www.youtube.com/playlist?list=PLyzOVJj3bHQuiujH1lpn8cA9dsyulbYRv']"
      ]
     },
     "execution_count": 14,
     "metadata": {},
     "output_type": "execute_result"
    }
   ],
   "source": [
    "url = 'https://missing.csail.mit.edu/2019'\n",
    "\n",
    "reqs = requests.get(url)\n",
    "\n",
    "soup = BeautifulSoup(reqs.text, 'html.parser')\n",
    "\n",
    "urls = []\n",
    "for link in soup.find_all('a'):\n",
    "    urls.append(link.get('href'))\n",
    "urls"
   ]
  },
  {
   "cell_type": "code",
   "execution_count": 15,
   "id": "c010c34a",
   "metadata": {},
   "outputs": [
    {
     "name": "stdout",
     "output_type": "stream",
     "text": [
      "/2019/course-overview/\n",
      "/2019/virtual-machines/\n",
      "/2019/shell/\n",
      "/2019/command-line/\n",
      "/2019/data-wrangling/\n",
      "/2019/editors/\n",
      "/2019/version-control/\n",
      "/2019/dotfiles/\n",
      "/2019/backups/\n",
      "/2019/automation/\n",
      "/2019/machine-introspection/\n",
      "/2019/program-introspection/\n",
      "/2019/package-management/\n",
      "/2019/os-customization/\n",
      "/2019/remote-machines/\n",
      "/2019/web/\n",
      "/2019/security/\n"
     ]
    }
   ],
   "source": [
    "urls_filtered_list.append('https://missing.csail.mit.edu/2019')\n",
    "for u in urls:\n",
    "    for i in re.findall('/2019.+', str(u)):\n",
    "        url_to_be_appended = \"https://missing.csail.mit.edu\"+i\n",
    "        if url_to_be_appended not in urls_filtered_list:\n",
    "            print(i)\n",
    "            urls_filtered_list.append(url_to_be_appended)"
   ]
  },
  {
   "cell_type": "code",
   "execution_count": 16,
   "id": "b6a418d1",
   "metadata": {},
   "outputs": [
    {
     "data": {
      "text/plain": [
       "['https://missing.csail.mit.edu',\n",
       " 'https://missing.csail.mit.edu/2020/',\n",
       " 'https://missing.csail.mit.edu/2020/course-shell/',\n",
       " 'https://missing.csail.mit.edu/2020/shell-tools/',\n",
       " 'https://missing.csail.mit.edu/2020/editors/',\n",
       " 'https://missing.csail.mit.edu/2020/data-wrangling/',\n",
       " 'https://missing.csail.mit.edu/2020/command-line/',\n",
       " 'https://missing.csail.mit.edu/2020/version-control/',\n",
       " 'https://missing.csail.mit.edu/2020/debugging-profiling/',\n",
       " 'https://missing.csail.mit.edu/2020/metaprogramming/',\n",
       " 'https://missing.csail.mit.edu/2020/security/',\n",
       " 'https://missing.csail.mit.edu/2020/potpourri/',\n",
       " 'https://missing.csail.mit.edu/2020/qa/',\n",
       " 'https://missing.csail.mit.edu/2019',\n",
       " 'https://missing.csail.mit.edu/2019/course-overview/',\n",
       " 'https://missing.csail.mit.edu/2019/virtual-machines/',\n",
       " 'https://missing.csail.mit.edu/2019/shell/',\n",
       " 'https://missing.csail.mit.edu/2019/command-line/',\n",
       " 'https://missing.csail.mit.edu/2019/data-wrangling/',\n",
       " 'https://missing.csail.mit.edu/2019/editors/',\n",
       " 'https://missing.csail.mit.edu/2019/version-control/',\n",
       " 'https://missing.csail.mit.edu/2019/dotfiles/',\n",
       " 'https://missing.csail.mit.edu/2019/backups/',\n",
       " 'https://missing.csail.mit.edu/2019/automation/',\n",
       " 'https://missing.csail.mit.edu/2019/machine-introspection/',\n",
       " 'https://missing.csail.mit.edu/2019/program-introspection/',\n",
       " 'https://missing.csail.mit.edu/2019/package-management/',\n",
       " 'https://missing.csail.mit.edu/2019/os-customization/',\n",
       " 'https://missing.csail.mit.edu/2019/remote-machines/',\n",
       " 'https://missing.csail.mit.edu/2019/web/',\n",
       " 'https://missing.csail.mit.edu/2019/security/']"
      ]
     },
     "execution_count": 16,
     "metadata": {},
     "output_type": "execute_result"
    }
   ],
   "source": [
    "urls_filtered_list"
   ]
  },
  {
   "cell_type": "code",
   "execution_count": 17,
   "id": "5ab981e2",
   "metadata": {
    "scrolled": true
   },
   "outputs": [
    {
     "data": {
      "text/plain": [
       "31"
      ]
     },
     "execution_count": 17,
     "metadata": {},
     "output_type": "execute_result"
    }
   ],
   "source": [
    "len(urls_filtered_list)"
   ]
  },
  {
   "cell_type": "code",
   "execution_count": 18,
   "id": "daa04a9a",
   "metadata": {},
   "outputs": [],
   "source": [
    "from PyPDF2 import PdfMerger, PdfReader\n",
    "from pyhtml2pdf import converter\n",
    "\n",
    "def download_file(download_url, filename):\n",
    "    converter.convert(download_url, filename, print_options={\"displayHeaderFooter\": True})"
   ]
  },
  {
   "cell_type": "code",
   "execution_count": 19,
   "id": "8885e19f",
   "metadata": {
    "scrolled": true
   },
   "outputs": [
    {
     "name": "stderr",
     "output_type": "stream",
     "text": [
      "[WDM] - Downloading: 100%|████████████████████████████████████████████████████████| 6.30M/6.30M [00:01<00:00, 6.00MB/s]\n"
     ]
    }
   ],
   "source": [
    "mergedObject = PdfMerger()\n",
    "for fileNumber in range(len(urls_filtered_list)):\n",
    "    pdf_path = urls_filtered_list[fileNumber]\n",
    "    file_str = str(fileNumber)+ '.pdf'\n",
    "\n",
    "    download_file(pdf_path, file_str)\n",
    "                \n",
    "    mergedObject.append(PdfReader(file_str, 'rb'))\n",
    "\n",
    "mergedObject.write(\"mergedfilesoutput.pdf\")"
   ]
  },
  {
   "cell_type": "code",
   "execution_count": 49,
   "id": "22806cca",
   "metadata": {},
   "outputs": [],
   "source": [
    "# n = 60\n",
    "# download_file(urls_filtered_list[n], str(n)+ '.pdf')"
   ]
  },
  {
   "cell_type": "code",
   "execution_count": 8,
   "id": "b1f6dd12",
   "metadata": {},
   "outputs": [],
   "source": [
    "for fileNumber in range(317, len(urls_filtered_list)):\n",
    "    pdf_path = urls_filtered_list[fileNumber]\n",
    "    file_str = str(fileNumber)+ '.pdf'\n",
    "\n",
    "    download_file(pdf_path, file_str)"
   ]
  },
  {
   "cell_type": "code",
   "execution_count": 13,
   "id": "49abfbf3",
   "metadata": {},
   "outputs": [],
   "source": [
    "mergedObject = PdfMerger()\n",
    "for fileNumber in range(len(urls_filtered_list)):\n",
    "    file_str = str(fileNumber)+ '.pdf'\n",
    "                \n",
    "    mergedObject.append(PdfReader(file_str, 'rb'))\n",
    "\n",
    "mergedObject.write(\"mergedfilesoutput.pdf\")"
   ]
  },
  {
   "cell_type": "code",
   "execution_count": null,
   "id": "f619b57c",
   "metadata": {},
   "outputs": [],
   "source": []
  }
 ],
 "metadata": {
  "kernelspec": {
   "display_name": "Python 3 (ipykernel)",
   "language": "python",
   "name": "python3"
  },
  "language_info": {
   "codemirror_mode": {
    "name": "ipython",
    "version": 3
   },
   "file_extension": ".py",
   "mimetype": "text/x-python",
   "name": "python",
   "nbconvert_exporter": "python",
   "pygments_lexer": "ipython3",
   "version": "3.9.13"
  }
 },
 "nbformat": 4,
 "nbformat_minor": 5
}
